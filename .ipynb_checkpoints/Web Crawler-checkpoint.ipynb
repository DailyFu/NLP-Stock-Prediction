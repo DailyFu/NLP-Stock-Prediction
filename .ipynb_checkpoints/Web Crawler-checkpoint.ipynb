{
 "cells": [
  {
   "cell_type": "code",
   "execution_count": 585,
   "metadata": {},
   "outputs": [],
   "source": [
    "from bs4 import BeautifulSoup, SoupStrainer, BeautifulStoneSoup\n",
    "import requests\n",
    "import pandas as pd\n",
    "import re"
   ]
  },
  {
   "cell_type": "code",
   "execution_count": 586,
   "metadata": {},
   "outputs": [],
   "source": [
    "# Returns Dataframe of document links for a given CIK\n",
    "def get_sec_docs(cik=\"0001065088\"):\n",
    "    base_url = \"https://www.sec.gov/cgi-bin/browse-edgar\"\n",
    "    inputted_cik = cik\n",
    "    payload = {\n",
    "        \"action\" : \"getcompany\",\n",
    "        \"CIK\" : inputted_cik,\n",
    "        \"type\" : \"8-K\",\n",
    "        \"output\":\"xml\"\n",
    "        #\"dateb\" : \"20180331\",\n",
    "        #\"count\" : \"100\",\n",
    "        #\"owner\" : \"include\"\n",
    "    }\n",
    "    sec_response = requests.get(url=base_url,params=payload)\n",
    "    soup = BeautifulSoup(sec_response.text,'lxml')\n",
    "    url_list = soup.findAll('filinghref')\n",
    "    html_list = []\n",
    "    # Get html version of links\n",
    "    for link in url_list:\n",
    "        link = link.string\n",
    "        if link.split(\".\")[len(link.split(\".\"))-1] == 'htm':\n",
    "            txtlink = link + \"l\"\n",
    "            html_list.append(txtlink)\n",
    "\n",
    "    doc_list = []\n",
    "    doc_name_list = []\n",
    "    # Get links for txt versions of files\n",
    "    for k in range(len(html_list)):\n",
    "        txt_doc = html_list[k].replace(\"-index.html\",\".txt\")\n",
    "        doc_name = txt_doc.split(\"/\")[-1]\n",
    "        doc_list.append(txt_doc)\n",
    "        doc_name_list.append(doc_name)\n",
    "        # Create dataframe of CIK, doc name, and txt link\n",
    "    df = pd.DataFrame(\n",
    "        {\n",
    "        \"cik\" : [cik]*len(html_list),\n",
    "        \"txt_link\" : doc_list,\n",
    "        \"doc_name\": doc_name_list\n",
    "        }\n",
    "    )\n",
    "    return df"
   ]
  },
  {
   "cell_type": "code",
   "execution_count": 587,
   "metadata": {},
   "outputs": [],
   "source": [
    "# Extracts text and submission datetime from document link\n",
    "def extract_text(link):\n",
    "    r = requests.get(link)\n",
    "    #Parse 8-K document\n",
    "    filing = BeautifulSoup(r.content,\"html.parser\",from_encoding=\"ascii\")\n",
    "    #Extract datetime\n",
    "    submission_dt = filing.find(\"acceptance-datetime\").string[:14]\n",
    "    #Extract HTML sections\n",
    "    for section in filing.findAll(\"html\"):\n",
    "        #Remove tables\n",
    "        for table in section(\"table\"):\n",
    "            table.decompose()\n",
    "        #Convert to unicode\n",
    "        section = unicodedata.normalize(\"NFKD\",section.text)\n",
    "        section = section.replace(\"\\t\",\" \").replace(\"\\n\",\" \").replace(\"/s\",\" \").replace(\"\\'\",\"'\")\n",
    "    filing = \"\".join((section))\n",
    "    \n",
    "    return filing, submission_dt"
   ]
  },
  {
   "cell_type": "code",
   "execution_count": 588,
   "metadata": {},
   "outputs": [],
   "source": [
    "ebay_df = get_sec_docs()"
   ]
  },
  {
   "cell_type": "code",
   "execution_count": 589,
   "metadata": {
    "scrolled": true
   },
   "outputs": [],
   "source": [
    "corpus = extract_text(ebay_df['txt_link'][1])"
   ]
  },
  {
   "cell_type": "code",
   "execution_count": 590,
   "metadata": {
    "scrolled": true
   },
   "outputs": [
    {
     "data": {
      "text/plain": [
       "('    Exhibit   Exhibit 99.1eBay Inc. Reports Fourth Quarter and Full Year 2017 ResultseBay Delivers Record Fourth Quarter Driven by Strong Holiday PerformanceSan Jose, California, January 31, 2018 - eBay Inc. (NASDAQ: EBAY), a global commerce leader, delivered revenue for the quarter ended December 31, 2017 of $2.6 billion, increasing 9% on an as-reported basis and 7% on a foreign exchange (FX) neutral basis, primarily driven by gross merchandise volume (GMV) of $24.4 billion, up 10% on an as-reported basis and 7% on an FX-Neutral basis. During the quarter, eBay delivered GAAP net loss from continuing operations of $2.6 billion, or $(2.51) per diluted share primarily driven by a $3.1 billion tax charge attributable to the enactment of the Tax Cuts and Jobs Act. Non-GAAP net income from continuing operations was $618 million, or $0.59 per diluted share. The company generated $988 million of operating cash flow and $796 million of free cash flow from continuing operations while also repurchasing $922 million of its common stock in the quarter.“Q4 was a record quarter for eBay, representing the fifth quarter in a row of volume acceleration in our US Marketplace,” said Devin Wenig, President and CEO of eBay Inc. “We have made great progress transforming eBay while delivering meaningful growth and we expect further acceleration in 2018 as we continue to execute our strategy.”In the fourth quarter, eBay grew active buyers by 5% across its platforms, for a total of 170 million global active buyers. Underlying total eBay Inc. performance, the Marketplace platforms delivered $23.0 billion of GMV and $2.1 billion of revenue. Marketplace GMV was up 9% on an as-reported basis and 6% on an FX-Neutral basis, driven by strong holiday performance in the US and continued expansion of new user experiences, which led to revenue growth of 8% on an as-reported basis and 6% on an FX-Neutral basis. StubHub drove GMV of $1.4 billion, up 16% on an as-reported basis and 15% on an FX-Neutral basis, and revenue of $307 million, up 10% on both an as-reported basis and FX-Neutral basis driven by a strong concerts and sports landscape. Classifieds platforms delivered another quarter of double-digit growth with revenue of $244 million, up 21% on an as-reported basis and 13% on an FX-Neutral basis, driven primarily by strength in Germany.For the full year 2017, eBay Inc. delivered revenue of $9.6 billion, growing 7% on both an as-reported basis and FX-Neutral basis primarily driven by GMV of $88.4 billion, up 6% on both an as-reported basis and FX-Neutral basis. The company delivered strong operating and free cash flow on a continuing operations basis, generating $3.1 billion and $2.5 billion, respectively, during 2017. eBay also returned $2.7 billion of capital to shareholders through repurchases of its common stock.Fourth Quarter and Full Year 2017 Financial Highlights (presented in millions, except per share data and percentages)*2017 GAAP results from continuing operations primarily driven by a $3.1 billion tax charge attributable to the enactment of the Tax Cuts and Jobs Act. 2016 GAAP results from continuing operations driven by a $4.6 billion income tax benefit related to a legal structure realignment, primarily impacting its international entities, as well as a $0.8 billion gain from the sale of its equity holdings of MercadoLibre, Inc.**Not meaningfulOther Selected Financial and Operational ResultsBusiness OutlookPlease note that eBay’s 2018 Business Outlook includes the impact of adopting the Financial Accounting Standards Board Accounting Standards Codification (\"ASC\") Topic 606, Revenue from Contracts with Customers. Exhibit A, included in this document, presents a reconciliation of the impact of adoption on eBay’s 2017 and 2016 Income Statement to enable investors to better understand normalized growth comparisons for the company’s 2018 Business Outlook.In January 2018, eBay\\'s board of directors authorized an additional $6.0 billion stock repurchase program, with no expiration from the date of authorization. The company\\'s stock repurchase program is intended to programmatically offset the impact of dilution from its equity compensation programs and, subject to market conditions and other factors, to make opportunistic and programmatic repurchases of its common stock to reduce its outstanding share count. Any share repurchases under the company\\'s stock repurchase programs may be made through open market transactions, block trades, privately negotiated transactions (including accelerated share repurchase transactions) or other means at times and in such amounts as management deems appropriate and will be funded from the company\\'s working capital or other financing alternatives.2Quarterly Conference Call and WebcasteBay Inc. will host a conference call to discuss fourth quarter 2017 results at 3:00 p.m. Pacific Time today. A live webcast of the conference call, together with a slide presentation that includes supplemental financial information and reconciliations of certain non-GAAP measures to their nearest comparable GAAP measures, can be accessed through the company\\'s Investor Relations website at https://investors.ebayinc.com. In addition, an archive of the webcast will be accessible for 90 days through the same link. eBay Inc. uses its Investor Relations website at https://investors.ebayinc.com as a means of disclosing material non-public information and for complying with its disclosure obligations under Regulation FD. Accordingly, investors should monitor, in addition to following press releases, SEC filings, public conference calls and webcasts.About eBayeBay Inc. (NASDAQ: EBAY) is a global commerce leader including the Marketplace, StubHub and Classifieds platforms. Collectively, we connect millions of buyers and sellers around the world, empowering people and creating opportunity through Connected Commerce. Founded in 1995 in San Jose, Calif., eBay is one of the world’s largest and most vibrant marketplaces for discovering great value and unique selection. In 2017, eBay enabled $88 billion of gross merchandise volume. For more information about the company and its global portfolio of online brands, visit www.ebayinc.com.PresentationAll growth rates represent year over year comparisons, except as otherwise noted. All amounts in tables are presented in US dollars, rounded to the nearest millions, except as otherwise noted. As a result, certain amounts may not sum or recalculate using the rounded dollar amounts provided.Non-GAAP Financial Measures This press release includes the following financial measures defined as “non-GAAP financial measures” by the Securities and Exchange Commission (SEC): non-GAAP net income, non-GAAP earnings per diluted share, non-GAAP operating margin, non-GAAP effective tax rate and free cash flow. These non-GAAP financial measures are presented on a continuing operations basis. These measures may be different from non-GAAP financial measures used by other companies. The presentation of this financial information, which is not prepared under any comprehensive set of accounting rules or principles, is not intended to be considered in isolation of, or as a substitute for, the financial information prepared and presented in accordance with generally accepted accounting principles (GAAP). For a reconciliation of these non-GAAP financial measures to the nearest comparable GAAP measures, see “Business Outlook,” “Non-GAAP Measures of Financial Performance,” “Reconciliation of GAAP Operating Margin to Non-GAAP Operating Margin,” “Reconciliation of GAAP Net Income to Non-GAAP Net Income and Reconciliation of GAAP Effective Tax Rate to Non-GAAP Effective Tax Rate” and “Reconciliation of Operating Cash Flow to Free Cash Flow” included in this press release. Forward-Looking Statements This press release contains forward-looking statements relating to, among other things, the future performance of eBay Inc. and its consolidated subsidiaries that are based on the company\\'s current expectations, forecasts and assumptions and involve risks and uncertainties. These statements include, but are not limited to, statements regarding the future performance of eBay Inc. and its consolidated subsidiaries, including expected financial results for the first quarter and full year 2018 and the future growth in its business. Actual results could differ materially from those predicted or implied and reported results should not be considered as an indication of future performance. Other factors that could cause or contribute to such differences include, but are not limited to: changes in political, business and economic conditions, any regional or general economic downturn or crisis and any conditions that affect ecommerce growth or cross-border trade; fluctuations in foreign currency exchange rates; the company’s need to successfully react to the increasing importance of mobile commerce and the increasing social aspect of commerce; an increasingly competitive environment for its business; changes to the company’s capital allocation or management of operating cash; the company’s ability to manage its indebtedness, including managing exposure to interest rates and maintaining its credit ratings; the company’s need to manage an increasingly large enterprise with a broad range of businesses of varying degrees of maturity and in many different geographies; the company’s need and ability to manage regulatory, tax, data security and litigation risks; whether the operational, marketing and strategic benefits of the separation of the eBay and PayPal businesses can be achieved; the company’s ability to timely upgrade and develop its technology systems, infrastructure and customer service capabilities at reasonable cost while maintaining site stability and performance and adding new products and features; and the company’s ability to integrate, manage and grow businesses that have been acquired or may be acquired in the future.The forward-looking statements in this release do not include the potential impact of any acquisitions or divestitures that may be announced and/or completed after the date hereof.3More information about factors that could affect the company\\'s operating results is included under the captions “Risk Factors” and “Management\\'s Discussion and Analysis of Financial Condition and Results of Operations” in the company\\'s most recent Annual Report on Form 10-K and subsequent quarterly reports on Form 10-Q, copies of which may be obtained by visiting the company\\'s Investor Relations website at https://investors.ebayinc.com or the SEC\\'s website at www.sec.gov. All information in this release is as of January 31, 2018. Undue reliance should not be placed on the forward-looking statements in this press release, which are based on information available to the company on the date hereof. The company assumes no obligation to update such statements.    4eBay Inc. Unaudited Condensed Consolidated Balance Sheet 5eBay Inc. Unaudited Condensed Consolidated Statement of Income6eBay Inc. Unaudited Condensed Consolidated Statement of Cash Flows7eBay Inc.Unaudited Summary of Consolidated Net Revenues8eBay Inc.Unaudited Supplemental Operating DataIn the third quarter of 2017, prior period Active Buyers and GMV were adjusted and related growth rates recalculated to exclude the impact of the sale of our eBay India business.9eBay Inc.Business OutlookThe guidance figures provided below and elsewhere in this press release are forward-looking statements, reflect a number of estimates, assumptions and other uncertainties, and are approximate in nature because the company\\'s future performance is difficult to predict. Such guidance is based on information available on the date of this press release, and the company assumes no obligation to update it. The company\\'s future performance involves risks and uncertainties, and the company\\'s actual results could differ materially from the information below and elsewhere in this press release. Some of the factors that could affect the company\\'s operating results are set forth under the caption “Forward-Looking Statements” above in this press release. More information about factors that could affect the company\\'s operating results is included under the captions “Risk Factors” and “Management\\'s Discussion and Analysis of Financial Condition and Results of Operations” in its most recent annual report on Form 10-K and subsequent quarterly reports on Form 10-Q, copies of which may be obtained by visiting eBay\\'s investor relations website at https://investors.ebayinc.com or the SEC\\'s website at www.sec.gov. eBay Inc.10eBay Inc. Non-GAAP Measures of Financial PerformanceTo supplement the company\\'s condensed consolidated financial statements presented in accordance with generally accepted accounting principles, or GAAP, the company uses non-GAAP measures of certain components of financial performance. These non-GAAP measures include non-GAAP net income, non-GAAP earnings per diluted share, non-GAAP operating margin, non-GAAP effective tax rate, and free cash flow. These non-GAAP financial measures are presented on a continuing operations basis. These non-GAAP measures are not in accordance with, or an alternative to, measures prepared in accordance with GAAP and may be different from non-GAAP measures used by other companies. In addition, these non-GAAP measures are not based on any comprehensive set of accounting rules or principles. Non-GAAP measures have limitations in that they do not reflect all of the amounts associated with the company\\'s results of operations as determined in accordance with GAAP. These measures should only be used to evaluate the company\\'s results of operations in conjunction with the corresponding GAAP measures. Reconciliation to the nearest GAAP measure of all non-GAAP measures included in this press release can be found in the tables included in this press release. These non-GAAP measures are provided to enhance investors\\' overall understanding of the company\\'s current financial performance and its prospects for the future. Specifically, the company believes the non-GAAP measures provide useful information to both management and investors by excluding certain expenses, gains and losses, or net purchases of property and equipment, as the case may be, that may not be indicative of its core operating results and business outlook. In addition, because the company has historically reported certain non-GAAP results to investors, the company believes that the inclusion of non-GAAP measures provides consistency in the company\\'s financial reporting. For its internal budgeting process, and as discussed further below, the company\\'s management uses financial measures that do not include stock-based compensation expense, employer payroll taxes on stock-based compensation, amortization or impairment of acquired intangible assets, impairment of goodwill, amortization of deferred tax assets associated with the realignment of its legal structure and related foreign exchange effects, significant gains or losses from the disposal/acquisition of a business, certain effects of the planned separation of our eBay and PayPal businesses, certain gains and losses on investments, restructuring-related charges and the income taxes associated with the foregoing. In addition to the corresponding GAAP measures, the company\\'s management also uses the foregoing non-GAAP measures in reviewing the financial results of the company. The company excludes the following items from non-GAAP net income, non-GAAP earnings per diluted share, non-GAAP operating margin and non-GAAP effective tax rate: Stock-based compensation expense and related employer payroll taxes. This expense consists of expenses for stock options, restricted stock and employee stock purchases. The company excludes stock-based compensation expense from its non-GAAP measures primarily because they are non-cash expenses that management does not believe are reflective of ongoing operating results. The related employer payroll taxes are dependent on the company\\'s stock price and the timing and size of exercises by employees of their stock options and the vesting of their restricted stock, over which management has limited to no control, and as such management does not believe it correlates to the company\\'s operation of the business. Amortization or impairment of acquired intangible assets, impairment of goodwill, certain amortization of deferred tax assets and related foreign exchange effects, significant gains or losses and transaction expenses from the acquisition or disposal of a business and certain gains or losses on investments. The company incurs amortization or impairment of acquired intangible assets and goodwill in connection with acquisitions and may incur significant gains or losses from the acquisition or disposal of a business and therefore excludes these amounts from its non-GAAP measures. The company also excludes certain gains and losses on investments. The company excludes the non-cash amortization of deferred tax assets associated with the realignment of its legal structure, which is not reduced by the effects of the Tax Cuts and Jobs Act, and related foreign exchange effects. The company excludes these items because management does not believe they correlate to the ongoing operating results of the company\\'s business. Restructuring. These charges consist of expenses for employee severance and other exit and disposal costs. The company excludes significant restructuring charges primarily because management does not believe they are reflective of ongoing operating results.Other certain significant gains, losses, or charges that are not indicative of the company’s core operating results. These are significant gains, losses, or charges during a period that are the result of isolated events or transactions which have not occurred frequently in the past and are not expected to occur regularly or be repeated in the future. The company excludes these amounts from its results primarily because management does not believe they are indicative of its current or ongoing operating results.Separation. These are significant expenses that are related to the separation of our eBay and PayPal businesses into separate publicly traded companies. These consist primarily of third-party consulting fees, legal fees, employee retention payments, tax indemnifications and other expenses related to the separation.Tax effect of non-GAAP adjustments. This amount is used to present stock-based compensation and the other amounts described above on an after-tax basis consistent with the presentation of non-GAAP net income. US Tax Reform. Income tax expense excludes the effects of the Tax Cuts and Jobs Act.In addition to the non-GAAP measures discussed above, the company also uses free cash flow. Free cash flow represents operating cash flows less purchases of property and equipment. The company considers free cash flow to be a liquidity measure that provides useful information to management and investors about the amount of cash generated by the business after the purchases of property, buildings, and equipment, which can then be used to, among other things, invest in the company\\'s business, make strategic acquisitions, and repurchase stock. A limitation of the utility of free cash flow as a measure of financial performance is that it does not represent the total increase or decrease in the company\\'s cash balance for the period.  11eBay Inc.Reconciliation of GAAP Operating Margin to Non-GAAP Operating Margin12Reconciliation of GAAP Net Income to Non-GAAP Net Income and GAAP Effective Tax Rate to Non-GAAP Effective Tax Rate* *Presented on a continuing operations basis13Reconciliation of Operating Cash Flow to Free Cash Flow**Presented on a continuing operations basis14Exhibit A eBay Inc. 2017 and 2016 Recasted Results (Unaudited)Condensed Consolidated Statement of Income from Continuing Operations - GAAP* Information has been recast to reflect the adoption of ASC Topic 606, which we will adopt on January 1, 2018.15Exhibit A - ContinuedeBay Inc. Unaudited Condensed Consolidated Statement of Income from Continuing Operations - Non-GAAP Adjustments16Exhibit A - ContinuedeBay Inc. 2017 and 2016 Recasted Results (Unaudited)Condensed Consolidated Statement of Income from Continuing Operations - Non-GAAP* Information has been recast to reflect the adoption of ASC Topic 606, which we will adopt on January 1, 2018.17  ',\n",
       " '20180131172129')"
      ]
     },
     "execution_count": 590,
     "metadata": {},
     "output_type": "execute_result"
    }
   ],
   "source": [
    "corpus"
   ]
  },
  {
   "cell_type": "code",
   "execution_count": null,
   "metadata": {},
   "outputs": [],
   "source": []
  }
 ],
 "metadata": {
  "kernelspec": {
   "display_name": "Python 3",
   "language": "python",
   "name": "python3"
  },
  "language_info": {
   "codemirror_mode": {
    "name": "ipython",
    "version": 3
   },
   "file_extension": ".py",
   "mimetype": "text/x-python",
   "name": "python",
   "nbconvert_exporter": "python",
   "pygments_lexer": "ipython3",
   "version": "3.6.5"
  }
 },
 "nbformat": 4,
 "nbformat_minor": 2
}
